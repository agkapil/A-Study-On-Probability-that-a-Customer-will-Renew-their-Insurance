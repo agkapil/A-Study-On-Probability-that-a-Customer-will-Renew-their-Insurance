{
 "cells": [
  {
   "cell_type": "markdown",
   "metadata": {},
   "source": [
    "Importing Libraries"
   ]
  },
  {
   "cell_type": "code",
   "execution_count": 107,
   "metadata": {},
   "outputs": [],
   "source": [
    "import numpy as np\n",
    "import pandas as pd\n",
    "import matplotlib.pyplot as plt \n",
    "from sklearn import model_selection\n",
    "from sklearn.linear_model import LogisticRegression\n",
    "from sklearn.ensemble import RandomForestClassifier\n",
    "import seaborn as sns\n",
    "from sklearn.metrics import accuracy_score, roc_auc_score, confusion_matrix\n",
    "\n",
    "%matplotlib inline"
   ]
  },
  {
   "cell_type": "code",
   "execution_count": 108,
   "metadata": {},
   "outputs": [
    {
     "data": {
      "text/html": [
       "<div>\n",
       "<style scoped>\n",
       "    .dataframe tbody tr th:only-of-type {\n",
       "        vertical-align: middle;\n",
       "    }\n",
       "\n",
       "    .dataframe tbody tr th {\n",
       "        vertical-align: top;\n",
       "    }\n",
       "\n",
       "    .dataframe thead th {\n",
       "        text-align: right;\n",
       "    }\n",
       "</style>\n",
       "<table border=\"1\" class=\"dataframe\">\n",
       "  <thead>\n",
       "    <tr style=\"text-align: right;\">\n",
       "      <th></th>\n",
       "      <th>id</th>\n",
       "      <th>perc_premium_paid_by_cash_credit</th>\n",
       "      <th>age_in_days</th>\n",
       "      <th>Income</th>\n",
       "      <th>Count_3-6_months_late</th>\n",
       "      <th>Count_6-12_months_late</th>\n",
       "      <th>Count_more_than_12_months_late</th>\n",
       "      <th>Marital Status</th>\n",
       "      <th>Veh_Owned</th>\n",
       "      <th>No_of_dep</th>\n",
       "      <th>Accomodation</th>\n",
       "      <th>risk_score</th>\n",
       "      <th>no_of_premiums_paid</th>\n",
       "      <th>sourcing_channel</th>\n",
       "      <th>residence_area_type</th>\n",
       "      <th>premium</th>\n",
       "      <th>renewal</th>\n",
       "    </tr>\n",
       "  </thead>\n",
       "  <tbody>\n",
       "    <tr>\n",
       "      <th>0</th>\n",
       "      <td>1</td>\n",
       "      <td>0.317</td>\n",
       "      <td>11330</td>\n",
       "      <td>90050</td>\n",
       "      <td>0</td>\n",
       "      <td>0</td>\n",
       "      <td>0</td>\n",
       "      <td>0</td>\n",
       "      <td>3</td>\n",
       "      <td>3</td>\n",
       "      <td>1</td>\n",
       "      <td>98.810</td>\n",
       "      <td>8</td>\n",
       "      <td>A</td>\n",
       "      <td>Rural</td>\n",
       "      <td>5400</td>\n",
       "      <td>1</td>\n",
       "    </tr>\n",
       "    <tr>\n",
       "      <th>1</th>\n",
       "      <td>2</td>\n",
       "      <td>0.000</td>\n",
       "      <td>30309</td>\n",
       "      <td>156080</td>\n",
       "      <td>0</td>\n",
       "      <td>0</td>\n",
       "      <td>0</td>\n",
       "      <td>1</td>\n",
       "      <td>3</td>\n",
       "      <td>1</td>\n",
       "      <td>1</td>\n",
       "      <td>99.066</td>\n",
       "      <td>3</td>\n",
       "      <td>A</td>\n",
       "      <td>Urban</td>\n",
       "      <td>11700</td>\n",
       "      <td>1</td>\n",
       "    </tr>\n",
       "    <tr>\n",
       "      <th>2</th>\n",
       "      <td>3</td>\n",
       "      <td>0.015</td>\n",
       "      <td>16069</td>\n",
       "      <td>145020</td>\n",
       "      <td>1</td>\n",
       "      <td>0</td>\n",
       "      <td>0</td>\n",
       "      <td>0</td>\n",
       "      <td>1</td>\n",
       "      <td>1</td>\n",
       "      <td>1</td>\n",
       "      <td>99.170</td>\n",
       "      <td>14</td>\n",
       "      <td>C</td>\n",
       "      <td>Urban</td>\n",
       "      <td>18000</td>\n",
       "      <td>1</td>\n",
       "    </tr>\n",
       "    <tr>\n",
       "      <th>3</th>\n",
       "      <td>4</td>\n",
       "      <td>0.000</td>\n",
       "      <td>23733</td>\n",
       "      <td>187560</td>\n",
       "      <td>0</td>\n",
       "      <td>0</td>\n",
       "      <td>0</td>\n",
       "      <td>1</td>\n",
       "      <td>1</td>\n",
       "      <td>1</td>\n",
       "      <td>0</td>\n",
       "      <td>99.370</td>\n",
       "      <td>13</td>\n",
       "      <td>A</td>\n",
       "      <td>Urban</td>\n",
       "      <td>13800</td>\n",
       "      <td>1</td>\n",
       "    </tr>\n",
       "    <tr>\n",
       "      <th>4</th>\n",
       "      <td>5</td>\n",
       "      <td>0.888</td>\n",
       "      <td>19360</td>\n",
       "      <td>103050</td>\n",
       "      <td>7</td>\n",
       "      <td>3</td>\n",
       "      <td>4</td>\n",
       "      <td>0</td>\n",
       "      <td>2</td>\n",
       "      <td>1</td>\n",
       "      <td>0</td>\n",
       "      <td>98.800</td>\n",
       "      <td>15</td>\n",
       "      <td>A</td>\n",
       "      <td>Urban</td>\n",
       "      <td>7500</td>\n",
       "      <td>0</td>\n",
       "    </tr>\n",
       "    <tr>\n",
       "      <th>...</th>\n",
       "      <td>...</td>\n",
       "      <td>...</td>\n",
       "      <td>...</td>\n",
       "      <td>...</td>\n",
       "      <td>...</td>\n",
       "      <td>...</td>\n",
       "      <td>...</td>\n",
       "      <td>...</td>\n",
       "      <td>...</td>\n",
       "      <td>...</td>\n",
       "      <td>...</td>\n",
       "      <td>...</td>\n",
       "      <td>...</td>\n",
       "      <td>...</td>\n",
       "      <td>...</td>\n",
       "      <td>...</td>\n",
       "      <td>...</td>\n",
       "    </tr>\n",
       "    <tr>\n",
       "      <th>79848</th>\n",
       "      <td>79849</td>\n",
       "      <td>0.249</td>\n",
       "      <td>25555</td>\n",
       "      <td>64420</td>\n",
       "      <td>0</td>\n",
       "      <td>0</td>\n",
       "      <td>0</td>\n",
       "      <td>1</td>\n",
       "      <td>2</td>\n",
       "      <td>4</td>\n",
       "      <td>0</td>\n",
       "      <td>99.080</td>\n",
       "      <td>10</td>\n",
       "      <td>A</td>\n",
       "      <td>Urban</td>\n",
       "      <td>5700</td>\n",
       "      <td>1</td>\n",
       "    </tr>\n",
       "    <tr>\n",
       "      <th>79849</th>\n",
       "      <td>79850</td>\n",
       "      <td>0.003</td>\n",
       "      <td>16797</td>\n",
       "      <td>660040</td>\n",
       "      <td>1</td>\n",
       "      <td>0</td>\n",
       "      <td>0</td>\n",
       "      <td>0</td>\n",
       "      <td>2</td>\n",
       "      <td>1</td>\n",
       "      <td>0</td>\n",
       "      <td>99.650</td>\n",
       "      <td>9</td>\n",
       "      <td>B</td>\n",
       "      <td>Urban</td>\n",
       "      <td>28500</td>\n",
       "      <td>1</td>\n",
       "    </tr>\n",
       "    <tr>\n",
       "      <th>79850</th>\n",
       "      <td>79851</td>\n",
       "      <td>0.012</td>\n",
       "      <td>24835</td>\n",
       "      <td>227760</td>\n",
       "      <td>0</td>\n",
       "      <td>0</td>\n",
       "      <td>0</td>\n",
       "      <td>0</td>\n",
       "      <td>2</td>\n",
       "      <td>3</td>\n",
       "      <td>0</td>\n",
       "      <td>99.660</td>\n",
       "      <td>11</td>\n",
       "      <td>A</td>\n",
       "      <td>Rural</td>\n",
       "      <td>11700</td>\n",
       "      <td>1</td>\n",
       "    </tr>\n",
       "    <tr>\n",
       "      <th>79851</th>\n",
       "      <td>79852</td>\n",
       "      <td>0.190</td>\n",
       "      <td>10959</td>\n",
       "      <td>153060</td>\n",
       "      <td>1</td>\n",
       "      <td>0</td>\n",
       "      <td>0</td>\n",
       "      <td>0</td>\n",
       "      <td>2</td>\n",
       "      <td>1</td>\n",
       "      <td>0</td>\n",
       "      <td>99.460</td>\n",
       "      <td>24</td>\n",
       "      <td>A</td>\n",
       "      <td>Urban</td>\n",
       "      <td>11700</td>\n",
       "      <td>1</td>\n",
       "    </tr>\n",
       "    <tr>\n",
       "      <th>79852</th>\n",
       "      <td>79853</td>\n",
       "      <td>0.000</td>\n",
       "      <td>19720</td>\n",
       "      <td>324030</td>\n",
       "      <td>0</td>\n",
       "      <td>0</td>\n",
       "      <td>0</td>\n",
       "      <td>0</td>\n",
       "      <td>3</td>\n",
       "      <td>3</td>\n",
       "      <td>0</td>\n",
       "      <td>99.800</td>\n",
       "      <td>7</td>\n",
       "      <td>D</td>\n",
       "      <td>Rural</td>\n",
       "      <td>3300</td>\n",
       "      <td>1</td>\n",
       "    </tr>\n",
       "  </tbody>\n",
       "</table>\n",
       "<p>79853 rows × 17 columns</p>\n",
       "</div>"
      ],
      "text/plain": [
       "          id  perc_premium_paid_by_cash_credit  age_in_days  Income  \\\n",
       "0          1                             0.317        11330   90050   \n",
       "1          2                             0.000        30309  156080   \n",
       "2          3                             0.015        16069  145020   \n",
       "3          4                             0.000        23733  187560   \n",
       "4          5                             0.888        19360  103050   \n",
       "...      ...                               ...          ...     ...   \n",
       "79848  79849                             0.249        25555   64420   \n",
       "79849  79850                             0.003        16797  660040   \n",
       "79850  79851                             0.012        24835  227760   \n",
       "79851  79852                             0.190        10959  153060   \n",
       "79852  79853                             0.000        19720  324030   \n",
       "\n",
       "       Count_3-6_months_late  Count_6-12_months_late  \\\n",
       "0                          0                       0   \n",
       "1                          0                       0   \n",
       "2                          1                       0   \n",
       "3                          0                       0   \n",
       "4                          7                       3   \n",
       "...                      ...                     ...   \n",
       "79848                      0                       0   \n",
       "79849                      1                       0   \n",
       "79850                      0                       0   \n",
       "79851                      1                       0   \n",
       "79852                      0                       0   \n",
       "\n",
       "       Count_more_than_12_months_late  Marital Status  Veh_Owned  No_of_dep  \\\n",
       "0                                   0               0          3          3   \n",
       "1                                   0               1          3          1   \n",
       "2                                   0               0          1          1   \n",
       "3                                   0               1          1          1   \n",
       "4                                   4               0          2          1   \n",
       "...                               ...             ...        ...        ...   \n",
       "79848                               0               1          2          4   \n",
       "79849                               0               0          2          1   \n",
       "79850                               0               0          2          3   \n",
       "79851                               0               0          2          1   \n",
       "79852                               0               0          3          3   \n",
       "\n",
       "       Accomodation  risk_score  no_of_premiums_paid sourcing_channel  \\\n",
       "0                 1      98.810                    8                A   \n",
       "1                 1      99.066                    3                A   \n",
       "2                 1      99.170                   14                C   \n",
       "3                 0      99.370                   13                A   \n",
       "4                 0      98.800                   15                A   \n",
       "...             ...         ...                  ...              ...   \n",
       "79848             0      99.080                   10                A   \n",
       "79849             0      99.650                    9                B   \n",
       "79850             0      99.660                   11                A   \n",
       "79851             0      99.460                   24                A   \n",
       "79852             0      99.800                    7                D   \n",
       "\n",
       "      residence_area_type  premium  renewal  \n",
       "0                   Rural     5400        1  \n",
       "1                   Urban    11700        1  \n",
       "2                   Urban    18000        1  \n",
       "3                   Urban    13800        1  \n",
       "4                   Urban     7500        0  \n",
       "...                   ...      ...      ...  \n",
       "79848               Urban     5700        1  \n",
       "79849               Urban    28500        1  \n",
       "79850               Rural    11700        1  \n",
       "79851               Urban    11700        1  \n",
       "79852               Rural     3300        1  \n",
       "\n",
       "[79853 rows x 17 columns]"
      ]
     },
     "execution_count": 108,
     "metadata": {},
     "output_type": "execute_result"
    }
   ],
   "source": [
    "dataset = pd.read_excel(\"Downloads/ML/Sample Data.xlsx\")\n",
    "dataset"
   ]
  },
  {
   "cell_type": "code",
   "execution_count": 109,
   "metadata": {},
   "outputs": [
    {
     "data": {
      "text/plain": [
       "(79853, 17)"
      ]
     },
     "execution_count": 109,
     "metadata": {},
     "output_type": "execute_result"
    }
   ],
   "source": [
    "dataset.shape"
   ]
  },
  {
   "cell_type": "code",
   "execution_count": 110,
   "metadata": {
    "scrolled": true
   },
   "outputs": [
    {
     "data": {
      "text/plain": [
       "Index(['id', 'perc_premium_paid_by_cash_credit', 'age_in_days', 'Income',\n",
       "       'Count_3-6_months_late', 'Count_6-12_months_late',\n",
       "       'Count_more_than_12_months_late', 'Marital Status', 'Veh_Owned',\n",
       "       'No_of_dep', 'Accomodation', 'risk_score', 'no_of_premiums_paid',\n",
       "       'sourcing_channel', 'residence_area_type', 'premium', 'renewal'],\n",
       "      dtype='object')"
      ]
     },
     "execution_count": 110,
     "metadata": {},
     "output_type": "execute_result"
    }
   ],
   "source": [
    "dataset.columns"
   ]
  },
  {
   "cell_type": "code",
   "execution_count": 111,
   "metadata": {},
   "outputs": [
    {
     "name": "stdout",
     "output_type": "stream",
     "text": [
      "<class 'pandas.core.frame.DataFrame'>\n",
      "RangeIndex: 79853 entries, 0 to 79852\n",
      "Data columns (total 17 columns):\n",
      " #   Column                            Non-Null Count  Dtype  \n",
      "---  ------                            --------------  -----  \n",
      " 0   id                                79853 non-null  int64  \n",
      " 1   perc_premium_paid_by_cash_credit  79853 non-null  float64\n",
      " 2   age_in_days                       79853 non-null  int64  \n",
      " 3   Income                            79853 non-null  int64  \n",
      " 4   Count_3-6_months_late             79853 non-null  int64  \n",
      " 5   Count_6-12_months_late            79853 non-null  int64  \n",
      " 6   Count_more_than_12_months_late    79853 non-null  int64  \n",
      " 7   Marital Status                    79853 non-null  int64  \n",
      " 8   Veh_Owned                         79853 non-null  int64  \n",
      " 9   No_of_dep                         79853 non-null  int64  \n",
      " 10  Accomodation                      79853 non-null  int64  \n",
      " 11  risk_score                        79853 non-null  float64\n",
      " 12  no_of_premiums_paid               79853 non-null  int64  \n",
      " 13  sourcing_channel                  79853 non-null  object \n",
      " 14  residence_area_type               79853 non-null  object \n",
      " 15  premium                           79853 non-null  int64  \n",
      " 16  renewal                           79853 non-null  int64  \n",
      "dtypes: float64(2), int64(13), object(2)\n",
      "memory usage: 10.4+ MB\n"
     ]
    }
   ],
   "source": [
    "dataset.info()"
   ]
  },
  {
   "cell_type": "code",
   "execution_count": 112,
   "metadata": {},
   "outputs": [
    {
     "data": {
      "text/plain": [
       "0.0003826182568618026"
      ]
     },
     "execution_count": 112,
     "metadata": {},
     "output_type": "execute_result"
    }
   ],
   "source": [
    "dataset[\"Veh_Owned\"].corr(dataset[\"renewal\"])"
   ]
  },
  {
   "cell_type": "code",
   "execution_count": 113,
   "metadata": {},
   "outputs": [
    {
     "data": {
      "text/plain": [
       "id                                  0\n",
       "perc_premium_paid_by_cash_credit    0\n",
       "age_in_days                         0\n",
       "Income                              0\n",
       "Count_3-6_months_late               0\n",
       "Count_6-12_months_late              0\n",
       "Count_more_than_12_months_late      0\n",
       "Marital Status                      0\n",
       "Veh_Owned                           0\n",
       "No_of_dep                           0\n",
       "Accomodation                        0\n",
       "risk_score                          0\n",
       "no_of_premiums_paid                 0\n",
       "sourcing_channel                    0\n",
       "residence_area_type                 0\n",
       "premium                             0\n",
       "renewal                             0\n",
       "dtype: int64"
      ]
     },
     "execution_count": 113,
     "metadata": {},
     "output_type": "execute_result"
    }
   ],
   "source": [
    "dataset.isnull().sum()"
   ]
  },
  {
   "cell_type": "code",
   "execution_count": 114,
   "metadata": {},
   "outputs": [],
   "source": [
    "del dataset[\"id\"]"
   ]
  },
  {
   "cell_type": "markdown",
   "metadata": {},
   "source": [
    "No Null Values in any columns <br>\n",
    "converting categorical columns(\"residence_area_type\", \"sourcing_channel\") to numeric"
   ]
  },
  {
   "cell_type": "code",
   "execution_count": 115,
   "metadata": {},
   "outputs": [
    {
     "name": "stdout",
     "output_type": "stream",
     "text": [
      "Distinct values in residence_area_type column: 2\n",
      "Distinct values in sourcing_channel column: 5\n"
     ]
    }
   ],
   "source": [
    "print(\"Distinct values in residence_area_type column:\",len(set(dataset[\"residence_area_type\"])))\n",
    "print(\"Distinct values in sourcing_channel column:\",len(set(dataset[\"sourcing_channel\"])))"
   ]
  },
  {
   "cell_type": "code",
   "execution_count": 116,
   "metadata": {},
   "outputs": [],
   "source": [
    "dataset[\"residence_area_type\"] = pd.get_dummies(dataset[\"residence_area_type\"], drop_first= True)"
   ]
  },
  {
   "cell_type": "code",
   "execution_count": 117,
   "metadata": {},
   "outputs": [],
   "source": [
    "dummy = pd.get_dummies(dataset[\"sourcing_channel\"], drop_first = True)\n",
    "del dataset[\"sourcing_channel\"]\n",
    "dataset = pd.concat([dataset,dummy],axis=1)"
   ]
  },
  {
   "cell_type": "code",
   "execution_count": 118,
   "metadata": {
    "scrolled": true
   },
   "outputs": [],
   "source": [
    "#‘age’ to display customer’s age in years for improved readability\n",
    "dataset[\"age\"] = round(dataset[\"age_in_days\"]/365,0) \n",
    "del dataset[\"age_in_days\"]"
   ]
  },
  {
   "cell_type": "code",
   "execution_count": 119,
   "metadata": {},
   "outputs": [
    {
     "data": {
      "text/html": [
       "<div>\n",
       "<style scoped>\n",
       "    .dataframe tbody tr th:only-of-type {\n",
       "        vertical-align: middle;\n",
       "    }\n",
       "\n",
       "    .dataframe tbody tr th {\n",
       "        vertical-align: top;\n",
       "    }\n",
       "\n",
       "    .dataframe thead th {\n",
       "        text-align: right;\n",
       "    }\n",
       "</style>\n",
       "<table border=\"1\" class=\"dataframe\">\n",
       "  <thead>\n",
       "    <tr style=\"text-align: right;\">\n",
       "      <th></th>\n",
       "      <th>perc_premium_paid_by_cash_credit</th>\n",
       "      <th>Income</th>\n",
       "      <th>Count_3-6_months_late</th>\n",
       "      <th>Count_6-12_months_late</th>\n",
       "      <th>Count_more_than_12_months_late</th>\n",
       "      <th>Marital Status</th>\n",
       "      <th>Veh_Owned</th>\n",
       "      <th>No_of_dep</th>\n",
       "      <th>Accomodation</th>\n",
       "      <th>risk_score</th>\n",
       "      <th>no_of_premiums_paid</th>\n",
       "      <th>residence_area_type</th>\n",
       "      <th>premium</th>\n",
       "      <th>renewal</th>\n",
       "      <th>B</th>\n",
       "      <th>C</th>\n",
       "      <th>D</th>\n",
       "      <th>E</th>\n",
       "      <th>age</th>\n",
       "    </tr>\n",
       "  </thead>\n",
       "  <tbody>\n",
       "    <tr>\n",
       "      <th>0</th>\n",
       "      <td>0.317</td>\n",
       "      <td>0.09</td>\n",
       "      <td>0</td>\n",
       "      <td>0</td>\n",
       "      <td>0</td>\n",
       "      <td>0</td>\n",
       "      <td>3</td>\n",
       "      <td>3</td>\n",
       "      <td>1</td>\n",
       "      <td>98.810</td>\n",
       "      <td>8</td>\n",
       "      <td>0</td>\n",
       "      <td>5400</td>\n",
       "      <td>1</td>\n",
       "      <td>0</td>\n",
       "      <td>0</td>\n",
       "      <td>0</td>\n",
       "      <td>0</td>\n",
       "      <td>31.0</td>\n",
       "    </tr>\n",
       "    <tr>\n",
       "      <th>1</th>\n",
       "      <td>0.000</td>\n",
       "      <td>0.16</td>\n",
       "      <td>0</td>\n",
       "      <td>0</td>\n",
       "      <td>0</td>\n",
       "      <td>1</td>\n",
       "      <td>3</td>\n",
       "      <td>1</td>\n",
       "      <td>1</td>\n",
       "      <td>99.066</td>\n",
       "      <td>3</td>\n",
       "      <td>1</td>\n",
       "      <td>11700</td>\n",
       "      <td>1</td>\n",
       "      <td>0</td>\n",
       "      <td>0</td>\n",
       "      <td>0</td>\n",
       "      <td>0</td>\n",
       "      <td>83.0</td>\n",
       "    </tr>\n",
       "    <tr>\n",
       "      <th>2</th>\n",
       "      <td>0.015</td>\n",
       "      <td>0.15</td>\n",
       "      <td>1</td>\n",
       "      <td>0</td>\n",
       "      <td>0</td>\n",
       "      <td>0</td>\n",
       "      <td>1</td>\n",
       "      <td>1</td>\n",
       "      <td>1</td>\n",
       "      <td>99.170</td>\n",
       "      <td>14</td>\n",
       "      <td>1</td>\n",
       "      <td>18000</td>\n",
       "      <td>1</td>\n",
       "      <td>0</td>\n",
       "      <td>1</td>\n",
       "      <td>0</td>\n",
       "      <td>0</td>\n",
       "      <td>44.0</td>\n",
       "    </tr>\n",
       "    <tr>\n",
       "      <th>3</th>\n",
       "      <td>0.000</td>\n",
       "      <td>0.19</td>\n",
       "      <td>0</td>\n",
       "      <td>0</td>\n",
       "      <td>0</td>\n",
       "      <td>1</td>\n",
       "      <td>1</td>\n",
       "      <td>1</td>\n",
       "      <td>0</td>\n",
       "      <td>99.370</td>\n",
       "      <td>13</td>\n",
       "      <td>1</td>\n",
       "      <td>13800</td>\n",
       "      <td>1</td>\n",
       "      <td>0</td>\n",
       "      <td>0</td>\n",
       "      <td>0</td>\n",
       "      <td>0</td>\n",
       "      <td>65.0</td>\n",
       "    </tr>\n",
       "    <tr>\n",
       "      <th>4</th>\n",
       "      <td>0.888</td>\n",
       "      <td>0.10</td>\n",
       "      <td>7</td>\n",
       "      <td>3</td>\n",
       "      <td>4</td>\n",
       "      <td>0</td>\n",
       "      <td>2</td>\n",
       "      <td>1</td>\n",
       "      <td>0</td>\n",
       "      <td>98.800</td>\n",
       "      <td>15</td>\n",
       "      <td>1</td>\n",
       "      <td>7500</td>\n",
       "      <td>0</td>\n",
       "      <td>0</td>\n",
       "      <td>0</td>\n",
       "      <td>0</td>\n",
       "      <td>0</td>\n",
       "      <td>53.0</td>\n",
       "    </tr>\n",
       "    <tr>\n",
       "      <th>...</th>\n",
       "      <td>...</td>\n",
       "      <td>...</td>\n",
       "      <td>...</td>\n",
       "      <td>...</td>\n",
       "      <td>...</td>\n",
       "      <td>...</td>\n",
       "      <td>...</td>\n",
       "      <td>...</td>\n",
       "      <td>...</td>\n",
       "      <td>...</td>\n",
       "      <td>...</td>\n",
       "      <td>...</td>\n",
       "      <td>...</td>\n",
       "      <td>...</td>\n",
       "      <td>...</td>\n",
       "      <td>...</td>\n",
       "      <td>...</td>\n",
       "      <td>...</td>\n",
       "      <td>...</td>\n",
       "    </tr>\n",
       "    <tr>\n",
       "      <th>79848</th>\n",
       "      <td>0.249</td>\n",
       "      <td>0.06</td>\n",
       "      <td>0</td>\n",
       "      <td>0</td>\n",
       "      <td>0</td>\n",
       "      <td>1</td>\n",
       "      <td>2</td>\n",
       "      <td>4</td>\n",
       "      <td>0</td>\n",
       "      <td>99.080</td>\n",
       "      <td>10</td>\n",
       "      <td>1</td>\n",
       "      <td>5700</td>\n",
       "      <td>1</td>\n",
       "      <td>0</td>\n",
       "      <td>0</td>\n",
       "      <td>0</td>\n",
       "      <td>0</td>\n",
       "      <td>70.0</td>\n",
       "    </tr>\n",
       "    <tr>\n",
       "      <th>79849</th>\n",
       "      <td>0.003</td>\n",
       "      <td>0.66</td>\n",
       "      <td>1</td>\n",
       "      <td>0</td>\n",
       "      <td>0</td>\n",
       "      <td>0</td>\n",
       "      <td>2</td>\n",
       "      <td>1</td>\n",
       "      <td>0</td>\n",
       "      <td>99.650</td>\n",
       "      <td>9</td>\n",
       "      <td>1</td>\n",
       "      <td>28500</td>\n",
       "      <td>1</td>\n",
       "      <td>1</td>\n",
       "      <td>0</td>\n",
       "      <td>0</td>\n",
       "      <td>0</td>\n",
       "      <td>46.0</td>\n",
       "    </tr>\n",
       "    <tr>\n",
       "      <th>79850</th>\n",
       "      <td>0.012</td>\n",
       "      <td>0.23</td>\n",
       "      <td>0</td>\n",
       "      <td>0</td>\n",
       "      <td>0</td>\n",
       "      <td>0</td>\n",
       "      <td>2</td>\n",
       "      <td>3</td>\n",
       "      <td>0</td>\n",
       "      <td>99.660</td>\n",
       "      <td>11</td>\n",
       "      <td>0</td>\n",
       "      <td>11700</td>\n",
       "      <td>1</td>\n",
       "      <td>0</td>\n",
       "      <td>0</td>\n",
       "      <td>0</td>\n",
       "      <td>0</td>\n",
       "      <td>68.0</td>\n",
       "    </tr>\n",
       "    <tr>\n",
       "      <th>79851</th>\n",
       "      <td>0.190</td>\n",
       "      <td>0.15</td>\n",
       "      <td>1</td>\n",
       "      <td>0</td>\n",
       "      <td>0</td>\n",
       "      <td>0</td>\n",
       "      <td>2</td>\n",
       "      <td>1</td>\n",
       "      <td>0</td>\n",
       "      <td>99.460</td>\n",
       "      <td>24</td>\n",
       "      <td>1</td>\n",
       "      <td>11700</td>\n",
       "      <td>1</td>\n",
       "      <td>0</td>\n",
       "      <td>0</td>\n",
       "      <td>0</td>\n",
       "      <td>0</td>\n",
       "      <td>30.0</td>\n",
       "    </tr>\n",
       "    <tr>\n",
       "      <th>79852</th>\n",
       "      <td>0.000</td>\n",
       "      <td>0.32</td>\n",
       "      <td>0</td>\n",
       "      <td>0</td>\n",
       "      <td>0</td>\n",
       "      <td>0</td>\n",
       "      <td>3</td>\n",
       "      <td>3</td>\n",
       "      <td>0</td>\n",
       "      <td>99.800</td>\n",
       "      <td>7</td>\n",
       "      <td>0</td>\n",
       "      <td>3300</td>\n",
       "      <td>1</td>\n",
       "      <td>0</td>\n",
       "      <td>0</td>\n",
       "      <td>1</td>\n",
       "      <td>0</td>\n",
       "      <td>54.0</td>\n",
       "    </tr>\n",
       "  </tbody>\n",
       "</table>\n",
       "<p>79853 rows × 19 columns</p>\n",
       "</div>"
      ],
      "text/plain": [
       "       perc_premium_paid_by_cash_credit  Income  Count_3-6_months_late  \\\n",
       "0                                 0.317    0.09                      0   \n",
       "1                                 0.000    0.16                      0   \n",
       "2                                 0.015    0.15                      1   \n",
       "3                                 0.000    0.19                      0   \n",
       "4                                 0.888    0.10                      7   \n",
       "...                                 ...     ...                    ...   \n",
       "79848                             0.249    0.06                      0   \n",
       "79849                             0.003    0.66                      1   \n",
       "79850                             0.012    0.23                      0   \n",
       "79851                             0.190    0.15                      1   \n",
       "79852                             0.000    0.32                      0   \n",
       "\n",
       "       Count_6-12_months_late  Count_more_than_12_months_late  Marital Status  \\\n",
       "0                           0                               0               0   \n",
       "1                           0                               0               1   \n",
       "2                           0                               0               0   \n",
       "3                           0                               0               1   \n",
       "4                           3                               4               0   \n",
       "...                       ...                             ...             ...   \n",
       "79848                       0                               0               1   \n",
       "79849                       0                               0               0   \n",
       "79850                       0                               0               0   \n",
       "79851                       0                               0               0   \n",
       "79852                       0                               0               0   \n",
       "\n",
       "       Veh_Owned  No_of_dep  Accomodation  risk_score  no_of_premiums_paid  \\\n",
       "0              3          3             1      98.810                    8   \n",
       "1              3          1             1      99.066                    3   \n",
       "2              1          1             1      99.170                   14   \n",
       "3              1          1             0      99.370                   13   \n",
       "4              2          1             0      98.800                   15   \n",
       "...          ...        ...           ...         ...                  ...   \n",
       "79848          2          4             0      99.080                   10   \n",
       "79849          2          1             0      99.650                    9   \n",
       "79850          2          3             0      99.660                   11   \n",
       "79851          2          1             0      99.460                   24   \n",
       "79852          3          3             0      99.800                    7   \n",
       "\n",
       "       residence_area_type  premium  renewal  B  C  D  E   age  \n",
       "0                        0     5400        1  0  0  0  0  31.0  \n",
       "1                        1    11700        1  0  0  0  0  83.0  \n",
       "2                        1    18000        1  0  1  0  0  44.0  \n",
       "3                        1    13800        1  0  0  0  0  65.0  \n",
       "4                        1     7500        0  0  0  0  0  53.0  \n",
       "...                    ...      ...      ... .. .. .. ..   ...  \n",
       "79848                    1     5700        1  0  0  0  0  70.0  \n",
       "79849                    1    28500        1  1  0  0  0  46.0  \n",
       "79850                    0    11700        1  0  0  0  0  68.0  \n",
       "79851                    1    11700        1  0  0  0  0  30.0  \n",
       "79852                    0     3300        1  0  0  1  0  54.0  \n",
       "\n",
       "[79853 rows x 19 columns]"
      ]
     },
     "execution_count": 119,
     "metadata": {},
     "output_type": "execute_result"
    }
   ],
   "source": [
    "#income in millions upto 2 digit\n",
    "#‘cashPercent’ to to display Cash premium payment in % term\n",
    "dataset[\"Income\"] = round(dataset[\"Income\"]/1000000, 2)\n",
    "\n",
    "dataset"
   ]
  },
  {
   "cell_type": "code",
   "execution_count": 120,
   "metadata": {
    "scrolled": true
   },
   "outputs": [
    {
     "data": {
      "text/html": [
       "<div>\n",
       "<style scoped>\n",
       "    .dataframe tbody tr th:only-of-type {\n",
       "        vertical-align: middle;\n",
       "    }\n",
       "\n",
       "    .dataframe tbody tr th {\n",
       "        vertical-align: top;\n",
       "    }\n",
       "\n",
       "    .dataframe thead th {\n",
       "        text-align: right;\n",
       "    }\n",
       "</style>\n",
       "<table border=\"1\" class=\"dataframe\">\n",
       "  <thead>\n",
       "    <tr style=\"text-align: right;\">\n",
       "      <th></th>\n",
       "      <th>perc_premium_paid_by_cash_credit</th>\n",
       "      <th>Income</th>\n",
       "      <th>Count_3-6_months_late</th>\n",
       "      <th>Count_6-12_months_late</th>\n",
       "      <th>Count_more_than_12_months_late</th>\n",
       "      <th>Marital Status</th>\n",
       "      <th>Veh_Owned</th>\n",
       "      <th>No_of_dep</th>\n",
       "      <th>Accomodation</th>\n",
       "      <th>risk_score</th>\n",
       "      <th>no_of_premiums_paid</th>\n",
       "      <th>residence_area_type</th>\n",
       "      <th>premium</th>\n",
       "      <th>renewal</th>\n",
       "      <th>B</th>\n",
       "      <th>C</th>\n",
       "      <th>D</th>\n",
       "      <th>E</th>\n",
       "      <th>age</th>\n",
       "    </tr>\n",
       "  </thead>\n",
       "  <tbody>\n",
       "    <tr>\n",
       "      <th>count</th>\n",
       "      <td>79853.000000</td>\n",
       "      <td>79853.000000</td>\n",
       "      <td>79853.000000</td>\n",
       "      <td>79853.000000</td>\n",
       "      <td>79853.000000</td>\n",
       "      <td>79853.000000</td>\n",
       "      <td>79853.000000</td>\n",
       "      <td>79853.000000</td>\n",
       "      <td>79853.000000</td>\n",
       "      <td>79853.000000</td>\n",
       "      <td>79853.000000</td>\n",
       "      <td>79853.000000</td>\n",
       "      <td>79853.000000</td>\n",
       "      <td>79853.000000</td>\n",
       "      <td>79853.000000</td>\n",
       "      <td>79853.000000</td>\n",
       "      <td>79853.000000</td>\n",
       "      <td>79853.000000</td>\n",
       "      <td>79853.000000</td>\n",
       "    </tr>\n",
       "    <tr>\n",
       "      <th>mean</th>\n",
       "      <td>0.314288</td>\n",
       "      <td>0.209415</td>\n",
       "      <td>0.248369</td>\n",
       "      <td>0.078093</td>\n",
       "      <td>0.059935</td>\n",
       "      <td>0.498679</td>\n",
       "      <td>1.998009</td>\n",
       "      <td>2.503012</td>\n",
       "      <td>0.501296</td>\n",
       "      <td>99.067243</td>\n",
       "      <td>10.863887</td>\n",
       "      <td>0.603396</td>\n",
       "      <td>10924.507533</td>\n",
       "      <td>0.937410</td>\n",
       "      <td>0.206780</td>\n",
       "      <td>0.150765</td>\n",
       "      <td>0.094661</td>\n",
       "      <td>0.007627</td>\n",
       "      <td>51.607404</td>\n",
       "    </tr>\n",
       "    <tr>\n",
       "      <th>std</th>\n",
       "      <td>0.334915</td>\n",
       "      <td>0.496585</td>\n",
       "      <td>0.691102</td>\n",
       "      <td>0.436251</td>\n",
       "      <td>0.311840</td>\n",
       "      <td>0.500001</td>\n",
       "      <td>0.817248</td>\n",
       "      <td>1.115901</td>\n",
       "      <td>0.500001</td>\n",
       "      <td>0.725892</td>\n",
       "      <td>5.170687</td>\n",
       "      <td>0.489195</td>\n",
       "      <td>9401.676542</td>\n",
       "      <td>0.242226</td>\n",
       "      <td>0.404999</td>\n",
       "      <td>0.357821</td>\n",
       "      <td>0.292749</td>\n",
       "      <td>0.086997</td>\n",
       "      <td>14.270484</td>\n",
       "    </tr>\n",
       "    <tr>\n",
       "      <th>min</th>\n",
       "      <td>0.000000</td>\n",
       "      <td>0.020000</td>\n",
       "      <td>0.000000</td>\n",
       "      <td>0.000000</td>\n",
       "      <td>0.000000</td>\n",
       "      <td>0.000000</td>\n",
       "      <td>1.000000</td>\n",
       "      <td>1.000000</td>\n",
       "      <td>0.000000</td>\n",
       "      <td>91.900000</td>\n",
       "      <td>2.000000</td>\n",
       "      <td>0.000000</td>\n",
       "      <td>1200.000000</td>\n",
       "      <td>0.000000</td>\n",
       "      <td>0.000000</td>\n",
       "      <td>0.000000</td>\n",
       "      <td>0.000000</td>\n",
       "      <td>0.000000</td>\n",
       "      <td>21.000000</td>\n",
       "    </tr>\n",
       "    <tr>\n",
       "      <th>25%</th>\n",
       "      <td>0.034000</td>\n",
       "      <td>0.110000</td>\n",
       "      <td>0.000000</td>\n",
       "      <td>0.000000</td>\n",
       "      <td>0.000000</td>\n",
       "      <td>0.000000</td>\n",
       "      <td>1.000000</td>\n",
       "      <td>2.000000</td>\n",
       "      <td>0.000000</td>\n",
       "      <td>98.830000</td>\n",
       "      <td>7.000000</td>\n",
       "      <td>0.000000</td>\n",
       "      <td>5400.000000</td>\n",
       "      <td>1.000000</td>\n",
       "      <td>0.000000</td>\n",
       "      <td>0.000000</td>\n",
       "      <td>0.000000</td>\n",
       "      <td>0.000000</td>\n",
       "      <td>41.000000</td>\n",
       "    </tr>\n",
       "    <tr>\n",
       "      <th>50%</th>\n",
       "      <td>0.167000</td>\n",
       "      <td>0.170000</td>\n",
       "      <td>0.000000</td>\n",
       "      <td>0.000000</td>\n",
       "      <td>0.000000</td>\n",
       "      <td>0.000000</td>\n",
       "      <td>2.000000</td>\n",
       "      <td>3.000000</td>\n",
       "      <td>1.000000</td>\n",
       "      <td>99.180000</td>\n",
       "      <td>10.000000</td>\n",
       "      <td>1.000000</td>\n",
       "      <td>7500.000000</td>\n",
       "      <td>1.000000</td>\n",
       "      <td>0.000000</td>\n",
       "      <td>0.000000</td>\n",
       "      <td>0.000000</td>\n",
       "      <td>0.000000</td>\n",
       "      <td>51.000000</td>\n",
       "    </tr>\n",
       "    <tr>\n",
       "      <th>75%</th>\n",
       "      <td>0.538000</td>\n",
       "      <td>0.250000</td>\n",
       "      <td>0.000000</td>\n",
       "      <td>0.000000</td>\n",
       "      <td>0.000000</td>\n",
       "      <td>1.000000</td>\n",
       "      <td>3.000000</td>\n",
       "      <td>3.000000</td>\n",
       "      <td>1.000000</td>\n",
       "      <td>99.520000</td>\n",
       "      <td>14.000000</td>\n",
       "      <td>1.000000</td>\n",
       "      <td>13800.000000</td>\n",
       "      <td>1.000000</td>\n",
       "      <td>0.000000</td>\n",
       "      <td>0.000000</td>\n",
       "      <td>0.000000</td>\n",
       "      <td>0.000000</td>\n",
       "      <td>62.000000</td>\n",
       "    </tr>\n",
       "    <tr>\n",
       "      <th>max</th>\n",
       "      <td>1.000000</td>\n",
       "      <td>90.260000</td>\n",
       "      <td>13.000000</td>\n",
       "      <td>17.000000</td>\n",
       "      <td>11.000000</td>\n",
       "      <td>1.000000</td>\n",
       "      <td>3.000000</td>\n",
       "      <td>4.000000</td>\n",
       "      <td>1.000000</td>\n",
       "      <td>99.890000</td>\n",
       "      <td>60.000000</td>\n",
       "      <td>1.000000</td>\n",
       "      <td>60000.000000</td>\n",
       "      <td>1.000000</td>\n",
       "      <td>1.000000</td>\n",
       "      <td>1.000000</td>\n",
       "      <td>1.000000</td>\n",
       "      <td>1.000000</td>\n",
       "      <td>103.000000</td>\n",
       "    </tr>\n",
       "  </tbody>\n",
       "</table>\n",
       "</div>"
      ],
      "text/plain": [
       "       perc_premium_paid_by_cash_credit        Income  Count_3-6_months_late  \\\n",
       "count                      79853.000000  79853.000000           79853.000000   \n",
       "mean                           0.314288      0.209415               0.248369   \n",
       "std                            0.334915      0.496585               0.691102   \n",
       "min                            0.000000      0.020000               0.000000   \n",
       "25%                            0.034000      0.110000               0.000000   \n",
       "50%                            0.167000      0.170000               0.000000   \n",
       "75%                            0.538000      0.250000               0.000000   \n",
       "max                            1.000000     90.260000              13.000000   \n",
       "\n",
       "       Count_6-12_months_late  Count_more_than_12_months_late  Marital Status  \\\n",
       "count            79853.000000                    79853.000000    79853.000000   \n",
       "mean                 0.078093                        0.059935        0.498679   \n",
       "std                  0.436251                        0.311840        0.500001   \n",
       "min                  0.000000                        0.000000        0.000000   \n",
       "25%                  0.000000                        0.000000        0.000000   \n",
       "50%                  0.000000                        0.000000        0.000000   \n",
       "75%                  0.000000                        0.000000        1.000000   \n",
       "max                 17.000000                       11.000000        1.000000   \n",
       "\n",
       "          Veh_Owned     No_of_dep  Accomodation    risk_score  \\\n",
       "count  79853.000000  79853.000000  79853.000000  79853.000000   \n",
       "mean       1.998009      2.503012      0.501296     99.067243   \n",
       "std        0.817248      1.115901      0.500001      0.725892   \n",
       "min        1.000000      1.000000      0.000000     91.900000   \n",
       "25%        1.000000      2.000000      0.000000     98.830000   \n",
       "50%        2.000000      3.000000      1.000000     99.180000   \n",
       "75%        3.000000      3.000000      1.000000     99.520000   \n",
       "max        3.000000      4.000000      1.000000     99.890000   \n",
       "\n",
       "       no_of_premiums_paid  residence_area_type       premium       renewal  \\\n",
       "count         79853.000000         79853.000000  79853.000000  79853.000000   \n",
       "mean             10.863887             0.603396  10924.507533      0.937410   \n",
       "std               5.170687             0.489195   9401.676542      0.242226   \n",
       "min               2.000000             0.000000   1200.000000      0.000000   \n",
       "25%               7.000000             0.000000   5400.000000      1.000000   \n",
       "50%              10.000000             1.000000   7500.000000      1.000000   \n",
       "75%              14.000000             1.000000  13800.000000      1.000000   \n",
       "max              60.000000             1.000000  60000.000000      1.000000   \n",
       "\n",
       "                  B             C             D             E           age  \n",
       "count  79853.000000  79853.000000  79853.000000  79853.000000  79853.000000  \n",
       "mean       0.206780      0.150765      0.094661      0.007627     51.607404  \n",
       "std        0.404999      0.357821      0.292749      0.086997     14.270484  \n",
       "min        0.000000      0.000000      0.000000      0.000000     21.000000  \n",
       "25%        0.000000      0.000000      0.000000      0.000000     41.000000  \n",
       "50%        0.000000      0.000000      0.000000      0.000000     51.000000  \n",
       "75%        0.000000      0.000000      0.000000      0.000000     62.000000  \n",
       "max        1.000000      1.000000      1.000000      1.000000    103.000000  "
      ]
     },
     "execution_count": 120,
     "metadata": {},
     "output_type": "execute_result"
    }
   ],
   "source": [
    "dataset.describe()"
   ]
  },
  {
   "cell_type": "code",
   "execution_count": 121,
   "metadata": {
    "scrolled": true
   },
   "outputs": [
    {
     "data": {
      "text/plain": [
       "<matplotlib.axes._subplots.AxesSubplot at 0x1e8263c6408>"
      ]
     },
     "execution_count": 121,
     "metadata": {},
     "output_type": "execute_result"
    },
    {
     "data": {
      "image/png": "[encoded data removed]",
      "text/plain": [
       "<Figure size 432x288 with 1 Axes>"
      ]
     },
     "metadata": {
      "needs_background": "light"
     },
     "output_type": "display_data"
    }
   ],
   "source": [
    "sns.countplot(hue =dataset[\"Veh_Owned\"], x = dataset[\"renewal\"])"
   ]
  },
  {
   "cell_type": "code",
   "execution_count": 122,
   "metadata": {},
   "outputs": [],
   "source": [
    "dataset[\"LatePayment\"] = dataset['Count_3-6_months_late'] + dataset['Count_6-12_months_late'] + dataset['Count_more_than_12_months_late']"
   ]
  },
  {
   "cell_type": "code",
   "execution_count": 123,
   "metadata": {
    "scrolled": false
   },
   "outputs": [
    {
     "data": {
      "image/png": "[encoded data removed]",
      "text/plain": [
       "<Figure size 864x720 with 2 Axes>"
      ]
     },
     "metadata": {
      "needs_background": "light"
     },
     "output_type": "display_data"
    }
   ],
   "source": [
    "plt.figure(figsize=(12,10))\n",
    "cor = dataset.corr()\n",
    "sns.heatmap(cor, annot=True, cmap=plt.cm.Reds)\n",
    "plt.show()"
   ]
  },
  {
   "cell_type": "code",
   "execution_count": 179,
   "metadata": {},
   "outputs": [
    {
     "data": {
      "text/html": [
       "<div>\n",
       "<style scoped>\n",
       "    .dataframe tbody tr th:only-of-type {\n",
       "        vertical-align: middle;\n",
       "    }\n",
       "\n",
       "    .dataframe tbody tr th {\n",
       "        vertical-align: top;\n",
       "    }\n",
       "\n",
       "    .dataframe thead th {\n",
       "        text-align: right;\n",
       "    }\n",
       "</style>\n",
       "<table border=\"1\" class=\"dataframe\">\n",
       "  <thead>\n",
       "    <tr style=\"text-align: right;\">\n",
       "      <th></th>\n",
       "      <th>perc_premium_paid_by_cash_credit</th>\n",
       "      <th>Income</th>\n",
       "      <th>Count_3-6_months_late</th>\n",
       "      <th>Count_6-12_months_late</th>\n",
       "      <th>Count_more_than_12_months_late</th>\n",
       "      <th>Marital Status</th>\n",
       "      <th>Veh_Owned</th>\n",
       "      <th>No_of_dep</th>\n",
       "      <th>Accomodation</th>\n",
       "      <th>risk_score</th>\n",
       "      <th>no_of_premiums_paid</th>\n",
       "      <th>residence_area_type</th>\n",
       "      <th>premium</th>\n",
       "      <th>renewal</th>\n",
       "      <th>B</th>\n",
       "      <th>C</th>\n",
       "      <th>D</th>\n",
       "      <th>E</th>\n",
       "      <th>age</th>\n",
       "      <th>LatePayment</th>\n",
       "    </tr>\n",
       "  </thead>\n",
       "  <tbody>\n",
       "    <tr>\n",
       "      <th>0</th>\n",
       "      <td>31.7</td>\n",
       "      <td>0.09</td>\n",
       "      <td>0</td>\n",
       "      <td>0</td>\n",
       "      <td>0</td>\n",
       "      <td>0</td>\n",
       "      <td>3</td>\n",
       "      <td>3</td>\n",
       "      <td>1</td>\n",
       "      <td>98.810</td>\n",
       "      <td>8</td>\n",
       "      <td>0</td>\n",
       "      <td>5400</td>\n",
       "      <td>1</td>\n",
       "      <td>0</td>\n",
       "      <td>0</td>\n",
       "      <td>0</td>\n",
       "      <td>0</td>\n",
       "      <td>31.0</td>\n",
       "      <td>0</td>\n",
       "    </tr>\n",
       "    <tr>\n",
       "      <th>1</th>\n",
       "      <td>0.0</td>\n",
       "      <td>0.16</td>\n",
       "      <td>0</td>\n",
       "      <td>0</td>\n",
       "      <td>0</td>\n",
       "      <td>1</td>\n",
       "      <td>3</td>\n",
       "      <td>1</td>\n",
       "      <td>1</td>\n",
       "      <td>99.066</td>\n",
       "      <td>3</td>\n",
       "      <td>1</td>\n",
       "      <td>11700</td>\n",
       "      <td>1</td>\n",
       "      <td>0</td>\n",
       "      <td>0</td>\n",
       "      <td>0</td>\n",
       "      <td>0</td>\n",
       "      <td>83.0</td>\n",
       "      <td>0</td>\n",
       "    </tr>\n",
       "    <tr>\n",
       "      <th>2</th>\n",
       "      <td>1.5</td>\n",
       "      <td>0.15</td>\n",
       "      <td>1</td>\n",
       "      <td>0</td>\n",
       "      <td>0</td>\n",
       "      <td>0</td>\n",
       "      <td>1</td>\n",
       "      <td>1</td>\n",
       "      <td>1</td>\n",
       "      <td>99.170</td>\n",
       "      <td>14</td>\n",
       "      <td>1</td>\n",
       "      <td>18000</td>\n",
       "      <td>1</td>\n",
       "      <td>0</td>\n",
       "      <td>1</td>\n",
       "      <td>0</td>\n",
       "      <td>0</td>\n",
       "      <td>44.0</td>\n",
       "      <td>1</td>\n",
       "    </tr>\n",
       "    <tr>\n",
       "      <th>3</th>\n",
       "      <td>0.0</td>\n",
       "      <td>0.19</td>\n",
       "      <td>0</td>\n",
       "      <td>0</td>\n",
       "      <td>0</td>\n",
       "      <td>1</td>\n",
       "      <td>1</td>\n",
       "      <td>1</td>\n",
       "      <td>0</td>\n",
       "      <td>99.370</td>\n",
       "      <td>13</td>\n",
       "      <td>1</td>\n",
       "      <td>13800</td>\n",
       "      <td>1</td>\n",
       "      <td>0</td>\n",
       "      <td>0</td>\n",
       "      <td>0</td>\n",
       "      <td>0</td>\n",
       "      <td>65.0</td>\n",
       "      <td>0</td>\n",
       "    </tr>\n",
       "    <tr>\n",
       "      <th>4</th>\n",
       "      <td>88.8</td>\n",
       "      <td>0.10</td>\n",
       "      <td>7</td>\n",
       "      <td>3</td>\n",
       "      <td>4</td>\n",
       "      <td>0</td>\n",
       "      <td>2</td>\n",
       "      <td>1</td>\n",
       "      <td>0</td>\n",
       "      <td>98.800</td>\n",
       "      <td>15</td>\n",
       "      <td>1</td>\n",
       "      <td>7500</td>\n",
       "      <td>0</td>\n",
       "      <td>0</td>\n",
       "      <td>0</td>\n",
       "      <td>0</td>\n",
       "      <td>0</td>\n",
       "      <td>53.0</td>\n",
       "      <td>14</td>\n",
       "    </tr>\n",
       "    <tr>\n",
       "      <th>...</th>\n",
       "      <td>...</td>\n",
       "      <td>...</td>\n",
       "      <td>...</td>\n",
       "      <td>...</td>\n",
       "      <td>...</td>\n",
       "      <td>...</td>\n",
       "      <td>...</td>\n",
       "      <td>...</td>\n",
       "      <td>...</td>\n",
       "      <td>...</td>\n",
       "      <td>...</td>\n",
       "      <td>...</td>\n",
       "      <td>...</td>\n",
       "      <td>...</td>\n",
       "      <td>...</td>\n",
       "      <td>...</td>\n",
       "      <td>...</td>\n",
       "      <td>...</td>\n",
       "      <td>...</td>\n",
       "      <td>...</td>\n",
       "    </tr>\n",
       "    <tr>\n",
       "      <th>79848</th>\n",
       "      <td>24.9</td>\n",
       "      <td>0.06</td>\n",
       "      <td>0</td>\n",
       "      <td>0</td>\n",
       "      <td>0</td>\n",
       "      <td>1</td>\n",
       "      <td>2</td>\n",
       "      <td>4</td>\n",
       "      <td>0</td>\n",
       "      <td>99.080</td>\n",
       "      <td>10</td>\n",
       "      <td>1</td>\n",
       "      <td>5700</td>\n",
       "      <td>1</td>\n",
       "      <td>0</td>\n",
       "      <td>0</td>\n",
       "      <td>0</td>\n",
       "      <td>0</td>\n",
       "      <td>70.0</td>\n",
       "      <td>0</td>\n",
       "    </tr>\n",
       "    <tr>\n",
       "      <th>79849</th>\n",
       "      <td>0.3</td>\n",
       "      <td>0.66</td>\n",
       "      <td>1</td>\n",
       "      <td>0</td>\n",
       "      <td>0</td>\n",
       "      <td>0</td>\n",
       "      <td>2</td>\n",
       "      <td>1</td>\n",
       "      <td>0</td>\n",
       "      <td>99.650</td>\n",
       "      <td>9</td>\n",
       "      <td>1</td>\n",
       "      <td>28500</td>\n",
       "      <td>1</td>\n",
       "      <td>1</td>\n",
       "      <td>0</td>\n",
       "      <td>0</td>\n",
       "      <td>0</td>\n",
       "      <td>46.0</td>\n",
       "      <td>1</td>\n",
       "    </tr>\n",
       "    <tr>\n",
       "      <th>79850</th>\n",
       "      <td>1.2</td>\n",
       "      <td>0.23</td>\n",
       "      <td>0</td>\n",
       "      <td>0</td>\n",
       "      <td>0</td>\n",
       "      <td>0</td>\n",
       "      <td>2</td>\n",
       "      <td>3</td>\n",
       "      <td>0</td>\n",
       "      <td>99.660</td>\n",
       "      <td>11</td>\n",
       "      <td>0</td>\n",
       "      <td>11700</td>\n",
       "      <td>1</td>\n",
       "      <td>0</td>\n",
       "      <td>0</td>\n",
       "      <td>0</td>\n",
       "      <td>0</td>\n",
       "      <td>68.0</td>\n",
       "      <td>0</td>\n",
       "    </tr>\n",
       "    <tr>\n",
       "      <th>79851</th>\n",
       "      <td>19.0</td>\n",
       "      <td>0.15</td>\n",
       "      <td>1</td>\n",
       "      <td>0</td>\n",
       "      <td>0</td>\n",
       "      <td>0</td>\n",
       "      <td>2</td>\n",
       "      <td>1</td>\n",
       "      <td>0</td>\n",
       "      <td>99.460</td>\n",
       "      <td>24</td>\n",
       "      <td>1</td>\n",
       "      <td>11700</td>\n",
       "      <td>1</td>\n",
       "      <td>0</td>\n",
       "      <td>0</td>\n",
       "      <td>0</td>\n",
       "      <td>0</td>\n",
       "      <td>30.0</td>\n",
       "      <td>1</td>\n",
       "    </tr>\n",
       "    <tr>\n",
       "      <th>79852</th>\n",
       "      <td>0.0</td>\n",
       "      <td>0.32</td>\n",
       "      <td>0</td>\n",
       "      <td>0</td>\n",
       "      <td>0</td>\n",
       "      <td>0</td>\n",
       "      <td>3</td>\n",
       "      <td>3</td>\n",
       "      <td>0</td>\n",
       "      <td>99.800</td>\n",
       "      <td>7</td>\n",
       "      <td>0</td>\n",
       "      <td>3300</td>\n",
       "      <td>1</td>\n",
       "      <td>0</td>\n",
       "      <td>0</td>\n",
       "      <td>1</td>\n",
       "      <td>0</td>\n",
       "      <td>54.0</td>\n",
       "      <td>0</td>\n",
       "    </tr>\n",
       "  </tbody>\n",
       "</table>\n",
       "<p>79853 rows × 20 columns</p>\n",
       "</div>"
      ],
      "text/plain": [
       "       perc_premium_paid_by_cash_credit  Income  Count_3-6_months_late  \\\n",
       "0                                  31.7    0.09                      0   \n",
       "1                                   0.0    0.16                      0   \n",
       "2                                   1.5    0.15                      1   \n",
       "3                                   0.0    0.19                      0   \n",
       "4                                  88.8    0.10                      7   \n",
       "...                                 ...     ...                    ...   \n",
       "79848                              24.9    0.06                      0   \n",
       "79849                               0.3    0.66                      1   \n",
       "79850                               1.2    0.23                      0   \n",
       "79851                              19.0    0.15                      1   \n",
       "79852                               0.0    0.32                      0   \n",
       "\n",
       "       Count_6-12_months_late  Count_more_than_12_months_late  Marital Status  \\\n",
       "0                           0                               0               0   \n",
       "1                           0                               0               1   \n",
       "2                           0                               0               0   \n",
       "3                           0                               0               1   \n",
       "4                           3                               4               0   \n",
       "...                       ...                             ...             ...   \n",
       "79848                       0                               0               1   \n",
       "79849                       0                               0               0   \n",
       "79850                       0                               0               0   \n",
       "79851                       0                               0               0   \n",
       "79852                       0                               0               0   \n",
       "\n",
       "       Veh_Owned  No_of_dep  Accomodation  risk_score  no_of_premiums_paid  \\\n",
       "0              3          3             1      98.810                    8   \n",
       "1              3          1             1      99.066                    3   \n",
       "2              1          1             1      99.170                   14   \n",
       "3              1          1             0      99.370                   13   \n",
       "4              2          1             0      98.800                   15   \n",
       "...          ...        ...           ...         ...                  ...   \n",
       "79848          2          4             0      99.080                   10   \n",
       "79849          2          1             0      99.650                    9   \n",
       "79850          2          3             0      99.660                   11   \n",
       "79851          2          1             0      99.460                   24   \n",
       "79852          3          3             0      99.800                    7   \n",
       "\n",
       "       residence_area_type  premium  renewal  B  C  D  E   age  LatePayment  \n",
       "0                        0     5400        1  0  0  0  0  31.0            0  \n",
       "1                        1    11700        1  0  0  0  0  83.0            0  \n",
       "2                        1    18000        1  0  1  0  0  44.0            1  \n",
       "3                        1    13800        1  0  0  0  0  65.0            0  \n",
       "4                        1     7500        0  0  0  0  0  53.0           14  \n",
       "...                    ...      ...      ... .. .. .. ..   ...          ...  \n",
       "79848                    1     5700        1  0  0  0  0  70.0            0  \n",
       "79849                    1    28500        1  1  0  0  0  46.0            1  \n",
       "79850                    0    11700        1  0  0  0  0  68.0            0  \n",
       "79851                    1    11700        1  0  0  0  0  30.0            1  \n",
       "79852                    0     3300        1  0  0  1  0  54.0            0  \n",
       "\n",
       "[79853 rows x 20 columns]"
      ]
     },
     "execution_count": 179,
     "metadata": {},
     "output_type": "execute_result"
    }
   ],
   "source": [
    "dataset['perc_premium_paid_by_cash_credit'] *= 100   # in % term\n",
    "\n",
    "dataset"
   ]
  },
  {
   "cell_type": "markdown",
   "metadata": {},
   "source": [
    "# Data Normalization"
   ]
  },
  {
   "cell_type": "code",
   "execution_count": 124,
   "metadata": {},
   "outputs": [],
   "source": [
    "from sklearn.preprocessing import StandardScaler"
   ]
  },
  {
   "cell_type": "code",
   "execution_count": 125,
   "metadata": {},
   "outputs": [],
   "source": [
    "y = dataset['renewal'].values"
   ]
  },
  {
   "cell_type": "code",
   "execution_count": 126,
   "metadata": {},
   "outputs": [
    {
     "data": {
      "text/plain": [
       "array([1, 1, 1, ..., 1, 1, 1], dtype=int64)"
      ]
     },
     "execution_count": 126,
     "metadata": {},
     "output_type": "execute_result"
    }
   ],
   "source": [
    "y"
   ]
  },
  {
   "cell_type": "code",
   "execution_count": 127,
   "metadata": {},
   "outputs": [],
   "source": [
    "x = dataset.drop('renewal',axis=1).values"
   ]
  },
  {
   "cell_type": "code",
   "execution_count": 128,
   "metadata": {},
   "outputs": [
    {
     "data": {
      "text/plain": [
       "array([[ 0.00809841, -0.24047419, -0.35938304, ..., -0.08766484,\n",
       "        -1.4440668 , -0.37036361],\n",
       "       [-0.93841756, -0.09951059, -0.35938304, ..., -0.08766484,\n",
       "         2.19984075, -0.37036361],\n",
       "       [-0.89362974, -0.11964824,  1.08758987, ..., -0.08766484,\n",
       "        -0.53308991,  0.58814053],\n",
       "       ...,\n",
       "       [-0.9025873 ,  0.04145301, -0.35938304, ..., -0.08766484,\n",
       "         1.14871357, -0.37036361],\n",
       "       [-0.37110515, -0.11964824,  1.08758987, ..., -0.08766484,\n",
       "        -1.51414195,  0.58814053],\n",
       "       [-0.93841756,  0.22269193, -0.35938304, ..., -0.08766484,\n",
       "         0.16766154, -0.37036361]])"
      ]
     },
     "execution_count": 128,
     "metadata": {},
     "output_type": "execute_result"
    }
   ],
   "source": [
    "ss = StandardScaler()\n",
    "x = ss.fit_transform(x)\n",
    "x"
   ]
  },
  {
   "cell_type": "markdown",
   "metadata": {},
   "source": [
    "Splitting Data"
   ]
  },
  {
   "cell_type": "code",
   "execution_count": 129,
   "metadata": {},
   "outputs": [],
   "source": [
    "from sklearn.model_selection import train_test_split\n",
    "\n",
    "# split into 70:30 ratio\n",
    "x_train, x_test, y_train, y_test = train_test_split(x, y, test_size= 0.300, random_state= 42)"
   ]
  },
  {
   "cell_type": "markdown",
   "metadata": {},
   "source": [
    "\n",
    "# SMOTE"
   ]
  },
  {
   "cell_type": "code",
   "execution_count": 130,
   "metadata": {},
   "outputs": [
    {
     "name": "stdout",
     "output_type": "stream",
     "text": [
      "Number X_train dataset:  (55897, 19)\n",
      "Number y_train dataset:  (55897,)\n",
      "Number X_test dataset:  (23956, 19)\n",
      "Number y_test dataset:  (23956,)\n"
     ]
    }
   ],
   "source": [
    "from sklearn.model_selection import train_test_split\n",
    "\n",
    "\n",
    "# describes info about train and test set\n",
    "print(\"Number X_train dataset: \", x_train.shape)\n",
    "print(\"Number y_train dataset: \", y_train.shape)\n",
    "print(\"Number X_test dataset: \", x_test.shape)\n",
    "print(\"Number y_test dataset: \", y_test.shape)\n"
   ]
  },
  {
   "cell_type": "code",
   "execution_count": 131,
   "metadata": {
    "scrolled": true
   },
   "outputs": [
    {
     "data": {
      "text/plain": [
       "1    74855\n",
       "0     4998\n",
       "Name: renewal, dtype: int64"
      ]
     },
     "execution_count": 131,
     "metadata": {},
     "output_type": "execute_result"
    }
   ],
   "source": [
    "dataset[\"renewal\"].value_counts()"
   ]
  },
  {
   "cell_type": "code",
   "execution_count": 132,
   "metadata": {},
   "outputs": [
    {
     "name": "stdout",
     "output_type": "stream",
     "text": [
      "6.259000914179805\n"
     ]
    }
   ],
   "source": [
    "print(sum(dataset[\"renewal\"]==0)/len(dataset)*100)"
   ]
  },
  {
   "cell_type": "code",
   "execution_count": 133,
   "metadata": {},
   "outputs": [],
   "source": [
    "#So In the dataset there is a clear class imbalance as renewal has only 6% of cases which has defaulted and\n",
    "#remaining are No default cases."
   ]
  },
  {
   "cell_type": "code",
   "execution_count": 134,
   "metadata": {},
   "outputs": [
    {
     "name": "stdout",
     "output_type": "stream",
     "text": [
      "Before OverSampling, counts of label '1': 52412\n",
      "Before OverSampling, counts of label '0': 3485 \n",
      "\n"
     ]
    }
   ],
   "source": [
    "print(\"Before OverSampling, counts of label '1': {}\".format(sum(y_train == 1)))\n",
    "print(\"Before OverSampling, counts of label '0': {} \\n\".format(sum(y_train == 0)))"
   ]
  },
  {
   "cell_type": "code",
   "execution_count": 135,
   "metadata": {},
   "outputs": [
    {
     "name": "stdout",
     "output_type": "stream",
     "text": [
      "After OverSampling, the shape of train_X: (104824, 19)\n",
      "After OverSampling, the shape of train_y: (104824,) \n",
      "\n",
      "After OverSampling, counts of label '1': 52412\n",
      "After OverSampling, counts of label '0': 52412\n"
     ]
    }
   ],
   "source": [
    "# import SMOTE module from imblearn library\n",
    "from imblearn.over_sampling import SMOTE\n",
    "sm  = SMOTE(random_state=42)\n",
    "x_train_res,  y_train_res = sm.fit_resample(x_train, y_train.ravel() )\n",
    "\n",
    "print('After OverSampling, the shape of train_X: {}'.format(x_train_res.shape))\n",
    "print('After OverSampling, the shape of train_y: {} \\n'.format(y_train_res.shape))\n",
    "  \n",
    "print(\"After OverSampling, counts of label '1': {}\".format(sum(y_train_res == 1)))\n",
    "print(\"After OverSampling, counts of label '0': {}\".format(sum(y_train_res == 0)))\n"
   ]
  },
  {
   "cell_type": "code",
   "execution_count": 136,
   "metadata": {},
   "outputs": [],
   "source": [
    "#SMOTE Algorithm has oversampled the minority instances and made it equal to majority class"
   ]
  },
  {
   "cell_type": "markdown",
   "metadata": {},
   "source": [
    "# Modelling"
   ]
  },
  {
   "cell_type": "markdown",
   "metadata": {},
   "source": [
    "# 1. Logistic Regression"
   ]
  },
  {
   "cell_type": "code",
   "execution_count": 180,
   "metadata": {},
   "outputs": [
    {
     "data": {
      "text/plain": [
       "LogisticRegression(random_state=42)"
      ]
     },
     "execution_count": 180,
     "metadata": {},
     "output_type": "execute_result"
    }
   ],
   "source": [
    "from sklearn.linear_model import LogisticRegression\n",
    "from sklearn.metrics import classification_report, accuracy_score, roc_auc_score, confusion_matrix\n",
    "\n",
    "LR = LogisticRegression(random_state = 42)\n",
    "\n",
    "LR.fit(x_train_res,y_train_res)"
   ]
  },
  {
   "cell_type": "code",
   "execution_count": 181,
   "metadata": {},
   "outputs": [
    {
     "data": {
      "text/plain": [
       "0.7818918016363333"
      ]
     },
     "execution_count": 181,
     "metadata": {},
     "output_type": "execute_result"
    }
   ],
   "source": [
    "prediction = LR.predict(x_test)\n",
    "\n",
    "accuracy_score(y_test,prediction)"
   ]
  },
  {
   "cell_type": "code",
   "execution_count": 182,
   "metadata": {},
   "outputs": [
    {
     "name": "stdout",
     "output_type": "stream",
     "text": [
      "              precision    recall  f1-score   support\n",
      "\n",
      "           0       0.19      0.74      0.30      1513\n",
      "           1       0.98      0.79      0.87     22443\n",
      "\n",
      "    accuracy                           0.78     23956\n",
      "   macro avg       0.58      0.76      0.58     23956\n",
      "weighted avg       0.93      0.78      0.83     23956\n",
      "\n"
     ]
    }
   ],
   "source": [
    "print(classification_report(y_test, prediction))"
   ]
  },
  {
   "cell_type": "code",
   "execution_count": 183,
   "metadata": {},
   "outputs": [
    {
     "name": "stdout",
     "output_type": "stream",
     "text": [
      "AUC of the model is; 0.8362249799072389\n"
     ]
    }
   ],
   "source": [
    "probability = LR.predict_proba(x_test)\n",
    "\n",
    "#The higher the AUC value for a classifier, the better its ability to distinguish between positive and negative classes.\n",
    "print(\"AUC of the model is;\",  roc_auc_score(y_test , probability[:, 1]))"
   ]
  },
  {
   "cell_type": "code",
   "execution_count": 184,
   "metadata": {},
   "outputs": [
    {
     "name": "stdout",
     "output_type": "stream",
     "text": [
      "[[ 1113   400]\n",
      " [ 4825 17618]]\n"
     ]
    }
   ],
   "source": [
    "print(confusion_matrix(y_test,prediction))"
   ]
  },
  {
   "cell_type": "code",
   "execution_count": 185,
   "metadata": {},
   "outputs": [],
   "source": [
    "mat = np.array(confusion_matrix(y_test,prediction))"
   ]
  },
  {
   "cell_type": "code",
   "execution_count": 186,
   "metadata": {
    "scrolled": true
   },
   "outputs": [
    {
     "data": {
      "text/plain": [
       "<matplotlib.axes._subplots.AxesSubplot at 0x1e82e6dc8c8>"
      ]
     },
     "execution_count": 186,
     "metadata": {},
     "output_type": "execute_result"
    },
    {
     "data": {
      "image/png": "[encoded data removed]",
      "text/plain": [
       "<Figure size 432x288 with 2 Axes>"
      ]
     },
     "metadata": {
      "needs_background": "light"
     },
     "output_type": "display_data"
    }
   ],
   "source": [
    "import seaborn as sns\n",
    "sns.heatmap(mat/np.sum(mat), annot=True, fmt = '0.2%' , cmap = \"Blues\")"
   ]
  },
  {
   "cell_type": "code",
   "execution_count": 187,
   "metadata": {},
   "outputs": [
    {
     "data": {
      "text/plain": [
       "<matplotlib.axes._subplots.AxesSubplot at 0x1e82e76d048>"
      ]
     },
     "execution_count": 187,
     "metadata": {},
     "output_type": "execute_result"
    },
    {
     "data": {
      "image/png": "[encoded data removed]",
      "text/plain": [
       "<Figure size 432x288 with 2 Axes>"
      ]
     },
     "metadata": {
      "needs_background": "light"
     },
     "output_type": "display_data"
    }
   ],
   "source": [
    "import seaborn as sns\n",
    "\n",
    "labels = np.array([['TN', 'FP'], ['FN', 'TP']])\n",
    "\n",
    "sns.heatmap(mat/np.sum(mat), annot=labels, fmt = '' , cmap = \"Blues\")"
   ]
  },
  {
   "cell_type": "code",
   "execution_count": 188,
   "metadata": {},
   "outputs": [
    {
     "name": "stdout",
     "output_type": "stream",
     "text": [
      "Specificity (TN/(TN+FP)) of the model is:  0.735624586913417\n",
      "Sensitivity (TP/(TP+FN)) of the model is:  0.785010916544134 \n",
      "\n"
     ]
    }
   ],
   "source": [
    "mat  = np.array(confusion_matrix(y_test, prediction))\n",
    "\n",
    "\n",
    "#Sensitivity measures the proportion of positives that are correctly identified\n",
    "print(\"Specificity (TN/(TN+FP)) of the model is: \", mat[0,0]/(mat[0,0]+ mat[0,1]))\n",
    "\n",
    "\n",
    "#Specificity measures the proportion of negatives that are correctly identified\n",
    "print(\"Sensitivity (TP/(TP+FN)) of the model is: \", mat[1,1]/(mat[1,1]+ mat[1,0]),'\\n')\n"
   ]
  },
  {
   "cell_type": "code",
   "execution_count": 189,
   "metadata": {},
   "outputs": [
    {
     "ename": "ImportError",
     "evalue": "cannot import name 'zero_one_score' from 'sklearn.metrics' (C:\\Users\\Kapil\\anaconda3\\lib\\site-packages\\sklearn\\metrics\\__init__.py)",
     "output_type": "error",
     "traceback": [
      "\u001b[1;31m---------------------------------------------------------------------------\u001b[0m",
      "\u001b[1;31mImportError\u001b[0m                               Traceback (most recent call last)",
      "\u001b[1;32m<ipython-input-189-aeef67d777f8>\u001b[0m in \u001b[0;36m<module>\u001b[1;34m\u001b[0m\n\u001b[1;32m----> 1\u001b[1;33m \u001b[1;32mfrom\u001b[0m \u001b[0msklearn\u001b[0m\u001b[1;33m.\u001b[0m\u001b[0mmetrics\u001b[0m \u001b[1;32mimport\u001b[0m \u001b[0mzero_one_score\u001b[0m\u001b[1;33m\u001b[0m\u001b[1;33m\u001b[0m\u001b[0m\n\u001b[0m\u001b[0;32m      2\u001b[0m \u001b[1;33m\u001b[0m\u001b[0m\n\u001b[0;32m      3\u001b[0m \u001b[0mprint\u001b[0m\u001b[1;33m(\u001b[0m\u001b[1;34m\"Error rate:\"\u001b[0m\u001b[1;33m,\u001b[0m \u001b[1;36m1\u001b[0m \u001b[1;33m-\u001b[0m \u001b[0mzero_one_score\u001b[0m\u001b[1;33m(\u001b[0m\u001b[0my_test\u001b[0m\u001b[1;33m,\u001b[0m \u001b[0mprediction\u001b[0m\u001b[1;33m)\u001b[0m \u001b[1;33m)\u001b[0m\u001b[1;33m\u001b[0m\u001b[1;33m\u001b[0m\u001b[0m\n",
      "\u001b[1;31mImportError\u001b[0m: cannot import name 'zero_one_score' from 'sklearn.metrics' (C:\\Users\\Kapil\\anaconda3\\lib\\site-packages\\sklearn\\metrics\\__init__.py)"
     ]
    }
   ],
   "source": [
    "from sklearn.metrics import zero_one_score\n",
    "\n",
    "print(\"Error rate:\", 1 - zero_one_score(y_test, prediction) )"
   ]
  },
  {
   "cell_type": "markdown",
   "metadata": {},
   "source": [
    "# 2. Random Forest"
   ]
  },
  {
   "cell_type": "code",
   "execution_count": 190,
   "metadata": {},
   "outputs": [],
   "source": [
    "from sklearn.ensemble import RandomForestClassifier\n",
    "\n",
    "RFC = RandomForestClassifier(random_state=42)"
   ]
  },
  {
   "cell_type": "code",
   "execution_count": 191,
   "metadata": {},
   "outputs": [
    {
     "data": {
      "text/plain": [
       "RandomForestClassifier(random_state=42)"
      ]
     },
     "execution_count": 191,
     "metadata": {},
     "output_type": "execute_result"
    }
   ],
   "source": [
    "RFC.fit(x_train_res, y_train_res.ravel())\n"
   ]
  },
  {
   "cell_type": "code",
   "execution_count": 192,
   "metadata": {},
   "outputs": [
    {
     "data": {
      "text/plain": [
       "0.9290783102354316"
      ]
     },
     "execution_count": 192,
     "metadata": {},
     "output_type": "execute_result"
    }
   ],
   "source": [
    "pre = RFC.predict(x_test)\n",
    "\n",
    "accuracy_score(y_test,pre)"
   ]
  },
  {
   "cell_type": "code",
   "execution_count": 193,
   "metadata": {},
   "outputs": [
    {
     "name": "stdout",
     "output_type": "stream",
     "text": [
      "              precision    recall  f1-score   support\n",
      "\n",
      "           0       0.41      0.27      0.32      1513\n",
      "           1       0.95      0.97      0.96     22443\n",
      "\n",
      "    accuracy                           0.93     23956\n",
      "   macro avg       0.68      0.62      0.64     23956\n",
      "weighted avg       0.92      0.93      0.92     23956\n",
      "\n"
     ]
    }
   ],
   "source": [
    "print(classification_report(y_test, pre))"
   ]
  },
  {
   "cell_type": "code",
   "execution_count": 195,
   "metadata": {},
   "outputs": [
    {
     "name": "stdout",
     "output_type": "stream",
     "text": [
      "AUC of the model is: 0.8229986259676015\n"
     ]
    }
   ],
   "source": [
    "probabilities = RFC.predict_proba(x_test)\n",
    "\n",
    "print(\"AUC of the model is:\", roc_auc_score(y_test , probabilities[:, 1]) )"
   ]
  },
  {
   "cell_type": "code",
   "execution_count": 210,
   "metadata": {},
   "outputs": [
    {
     "data": {
      "text/plain": [
       "array([[  409,  1104],\n",
       "       [  595, 21848]], dtype=int64)"
      ]
     },
     "execution_count": 210,
     "metadata": {},
     "output_type": "execute_result"
    }
   ],
   "source": [
    "cm = np.array(confusion_matrix(y_test,pre))\n",
    "\n",
    "cm"
   ]
  },
  {
   "cell_type": "code",
   "execution_count": 204,
   "metadata": {
    "scrolled": true
   },
   "outputs": [
    {
     "data": {
      "text/plain": [
       "<matplotlib.axes._subplots.AxesSubplot at 0x1e82fd161c8>"
      ]
     },
     "execution_count": 204,
     "metadata": {},
     "output_type": "execute_result"
    },
    {
     "data": {
      "image/png": "[encoded data removed]",
      "text/plain": [
       "<Figure size 432x288 with 2 Axes>"
      ]
     },
     "metadata": {
      "needs_background": "light"
     },
     "output_type": "display_data"
    }
   ],
   "source": [
    "import seaborn as sns\n",
    "sns.heatmap(cm/np.sum(cm), annot=True, fmt = '0.2%' , cmap = \"Blues\")"
   ]
  },
  {
   "cell_type": "code",
   "execution_count": 209,
   "metadata": {},
   "outputs": [
    {
     "data": {
      "text/plain": [
       "<matplotlib.axes._subplots.AxesSubplot at 0x1e82fdadd48>"
      ]
     },
     "execution_count": 209,
     "metadata": {},
     "output_type": "execute_result"
    },
    {
     "data": {
      "image/png": "[encoded data removed]",
      "text/plain": [
       "<Figure size 432x288 with 2 Axes>"
      ]
     },
     "metadata": {
      "needs_background": "light"
     },
     "output_type": "display_data"
    }
   ],
   "source": [
    "import seaborn as sns\n",
    "\n",
    "labels = np.array([['TN', 'FP'], ['FN', 'TP']])\n",
    "\n",
    "sns.heatmap(cm/np.sum(cm), annot=labels, fmt = '' , cmap = \"Blues\")"
   ]
  },
  {
   "cell_type": "code",
   "execution_count": 206,
   "metadata": {},
   "outputs": [
    {
     "name": "stdout",
     "output_type": "stream",
     "text": [
      "Specificity (TN/(TN+FP)) of the model is:  0.2703238598810311\n",
      "Sensitivity (TP/(TP+FN)) of the model is:  0.9734883928173595 \n",
      "\n"
     ]
    }
   ],
   "source": [
    "\n",
    "#Sensitivity measures the proportion of positives that are correctly identified\n",
    "print(\"Specificity (TN/(TN+FP)) of the model is: \", cm[0,0]/(cm[0,0]+ cm[0,1]))\n",
    "\n",
    "\n",
    "#Specificity measures the proportion of negatives that are correctly identified\n",
    "print(\"Sensitivity (TP/(TP+FN)) of the model is: \", cm[1,1]/(cm[1,1]+ cm[1,0]),'\\n')\n"
   ]
  },
  {
   "cell_type": "code",
   "execution_count": 207,
   "metadata": {},
   "outputs": [
    {
     "name": "stdout",
     "output_type": "stream",
     "text": [
      "(21848, 1104, 409, 595)\n"
     ]
    }
   ],
   "source": [
    "def perf_measure(y_actual, y_pred):\n",
    "    TP = 0\n",
    "    FP = 0\n",
    "    TN = 0\n",
    "    FN = 0\n",
    "\n",
    "    for i in range(len(y_pred)): \n",
    "        if y_actual[i]==y_pred[i]==1:\n",
    "            TP += 1\n",
    "        if y_pred[i]==1 and y_actual[i]!=y_pred[i]:\n",
    "            FP += 1\n",
    "        if y_actual[i]==y_pred[i]==0:\n",
    "            TN += 1\n",
    "        if y_pred[i]==0 and y_actual[i]!=y_pred[i]:\n",
    "            FN += 1\n",
    "\n",
    "    return(TP, FP, TN, FN)\n",
    "print(perf_measure(y_test, pre))"
   ]
  },
  {
   "cell_type": "code",
   "execution_count": 208,
   "metadata": {},
   "outputs": [
    {
     "name": "stdout",
     "output_type": "stream",
     "text": [
      "1104 21848\n"
     ]
    }
   ],
   "source": [
    "print(cm[0,1],(cm[1,1]))"
   ]
  },
  {
   "cell_type": "code",
   "execution_count": null,
   "metadata": {},
   "outputs": [],
   "source": [
    "        "
   ]
  }
 ],
 "metadata": {
  "kernelspec": {
   "display_name": "Python 3",
   "language": "python",
   "name": "python3"
  },
  "language_info": {
   "codemirror_mode": {
    "name": "ipython",
    "version": 3
   },
   "file_extension": ".py",
   "mimetype": "text/x-python",
   "name": "python",
   "nbconvert_exporter": "python",
   "pygments_lexer": "ipython3",
   "version": "3.7.6"
  }
 },
 "nbformat": 4,
 "nbformat_minor": 4
}
